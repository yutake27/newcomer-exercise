{
 "cells": [
  {
   "cell_type": "markdown",
   "metadata": {},
   "source": [
    "## チェイン毎に色付け"
   ]
  },
  {
   "cell_type": "markdown",
   "metadata": {},
   "source": [
    "<img src = '1-1.png'>"
   ]
  },
  {
   "cell_type": "markdown",
   "metadata": {},
   "source": [
    "## A chain のみ表示し蛋白質鎖をribbon表示し2次構造に従って色付し、また、そこに結合するヘム（HEM）をball and stickによって表示しCPKで色づけ"
   ]
  },
  {
   "cell_type": "markdown",
   "metadata": {},
   "source": [
    "<img src = '1-2.png'>"
   ]
  },
  {
   "cell_type": "markdown",
   "metadata": {},
   "source": [
    "## PDBファイル名とチェイン名を引数にして、その回転半径（Radius of Gyration）を計算するプログラムを作成"
   ]
  },
  {
   "cell_type": "code",
   "execution_count": 7,
   "metadata": {},
   "outputs": [
    {
     "name": "stdout",
     "output_type": "stream",
     "text": [
      "radius: 14.07801006005311\n"
     ]
    }
   ],
   "source": [
    "import sys\n",
    "import numpy as np\n",
    "\n",
    "args = sys.argv\n",
    "args = ['/anaconda3/bin/python /Users/takei/Desktop/newcomer/Protein/3.py','/Users/takei/Desktop/newcomer/Protein/1buw.pdb','A']\n",
    "if len(args) != 3:\n",
    "    print(\"argument error\")\n",
    "    quit()\n",
    "filename = args[1]\n",
    "chain = args[2]\n",
    "f = open(filename)\n",
    "\n",
    "x = []\n",
    "y = []\n",
    "z = []\n",
    "for line in f:\n",
    "    if line[0:4] == 'ATOM':\n",
    "        if line[12:16].find('CA'):\n",
    "            if line[21] == chain:\n",
    "                x.append(float(line[30:38]))\n",
    "                y.append(float(line[38:46]))\n",
    "                z.append(float(line[46:54]))\n",
    "x = x - np.mean(x)\n",
    "y = y - np.mean(y)\n",
    "z = z - np.mean(z)\n",
    "\n",
    "distance = np.sqrt(x**2 + y**2 + z**2)\n",
    "r = np.mean(distance)\n",
    "print('radius: {}'.format(r))"
   ]
  },
  {
   "cell_type": "markdown",
   "metadata": {},
   "source": [
    "## 重心から回転半径の範囲内にある原子を赤で、範囲外にある原子を青で色づけ\n",
    "pymolでrunできるスクリプトファイルを作成する"
   ]
  },
  {
   "cell_type": "code",
   "execution_count": 8,
   "metadata": {},
   "outputs": [],
   "source": [
    "import sys\n",
    "import numpy as np\n",
    "\n",
    "args = sys.argv\n",
    "args = ['/anaconda3/bin/python /Users/takei/Desktop/newcomer/Protein/3.py','/Users/takei/Desktop/newcomer/Protein/1buw.pdb','A']\n",
    "if len(args) != 3:\n",
    "    print(\"argument error\")\n",
    "    quit()\n",
    "filename = args[1]\n",
    "chain = args[2]\n",
    "f = open(filename)\n",
    "\n",
    "x = []\n",
    "y = []\n",
    "z = []\n",
    "id = []\n",
    "for line in f:\n",
    "    if line[0:4] == 'ATOM':\n",
    "        if line[12:16].find('CA'):\n",
    "            if line[21] == chain:\n",
    "                id.append(int(line[6:11]))\n",
    "                x.append(float(line[30:38]))\n",
    "                y.append(float(line[38:46]))\n",
    "                z.append(float(line[46:54]))\n",
    "x = x - np.mean(x)\n",
    "y = y - np.mean(y)\n",
    "z = z - np.mean(z)\n",
    "\n",
    "distance = np.sqrt(x**2 + y**2 + z**2)\n",
    "r = np.mean(distance)\n",
    "in_atoms = []\n",
    "out_atoms = []\n",
    "for i in range(len(distance)):\n",
    "    if distance[i] <= r:\n",
    "        in_atoms.append(id[i])\n",
    "    else:\n",
    "        out_atoms.append(id[i])\n",
    "str_in_atoms = ','.join(map(str,in_atoms))\n",
    "str_out_atoms = ','.join(map(str,out_atoms))\n",
    "\n",
    "f_out = open('/Users/takei/Desktop/newcomer/Protein/script.py', 'w')\n",
    "f_out.write('pymol.cmd.load(\\'{}\\')\\n'.format(filename))\n",
    "f_out.write('pymol.cmd.do(\\'hide everything\\')\\n')\n",
    "f_out.write('pymol.cmd.do(\\'sel inter,(id {})\\')\\n'.format(str_in_atoms))\n",
    "f_out.write('pymol.cmd.do(\\'sel exter,(id {})\\')\\n'.format(str_out_atoms))\n",
    "f_out.write('pymol.cmd.do(\\'show cartoon, inter\\')\\n')\n",
    "f_out.write('pymol.cmd.do(\\'show cartoon, exter\\')\\n')\n",
    "f_out.write('pymol.cmd.do(\\'color red, inter\\')\\n')\n",
    "f_out.write('pymol.cmd.do(\\'color blue, exter\\')\\n')\n",
    "f_out.write('pymol.cmd.do(\\'png /Users/takei/Desktop/newcomer/Protein/3chain{}.png\\')'.format(chain))\n",
    "f_out.close()"
   ]
  },
  {
   "cell_type": "markdown",
   "metadata": {},
   "source": [
    "## 作成できた画像"
   ]
  },
  {
   "cell_type": "markdown",
   "metadata": {},
   "source": [
    "## A chain\n",
    "<img src = '3chainA.png'>\n",
    "\n",
    "## B chain\n",
    "<img src = '3chainB.png'>\n",
    "\n",
    "## C chain\n",
    "<img src = '3chainC.png'>\n",
    "\n",
    "## D chain\n",
    "<img src = '3chainD.png'>"
   ]
  },
  {
   "cell_type": "code",
   "execution_count": null,
   "metadata": {},
   "outputs": [],
   "source": []
  }
 ],
 "metadata": {
  "kernelspec": {
   "display_name": "Python 3",
   "language": "python",
   "name": "python3"
  },
  "language_info": {
   "codemirror_mode": {
    "name": "ipython",
    "version": 3
   },
   "file_extension": ".py",
   "mimetype": "text/x-python",
   "name": "python",
   "nbconvert_exporter": "python",
   "pygments_lexer": "ipython3",
   "version": "3.7.1"
  }
 },
 "nbformat": 4,
 "nbformat_minor": 2
}
